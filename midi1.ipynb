{
 "cells": [
  {
   "cell_type": "code",
   "execution_count": 1,
   "metadata": {},
   "outputs": [],
   "source": [
    "from midiutil import MIDIFile\n",
    "import sys\n",
    "import subprocess\n",
    "import numpy as np\n",
    "import random"
   ]
  },
  {
   "cell_type": "code",
   "execution_count": 145,
   "metadata": {},
   "outputs": [],
   "source": [
    "def open_file(path):\n",
    "    cmd = {'linux':'eog', 'win32':'explorer', 'darwin':'open'}[sys.platform]\n",
    "    subprocess.run([cmd, path])\n",
    "\n",
    "def kolla3(n):\n",
    "    return n%1==0.5"
   ]
  },
  {
   "cell_type": "code",
   "execution_count": 2,
   "metadata": {},
   "outputs": [
    {
     "ename": "NameError",
     "evalue": "name 'note_groups' is not defined",
     "output_type": "error",
     "traceback": [
      "\u001b[0;31m---------------------------------------------------------------------------\u001b[0m",
      "\u001b[0;31mNameError\u001b[0m                                 Traceback (most recent call last)",
      "\u001b[0;32m<ipython-input-2-91c23bdee382>\u001b[0m in \u001b[0;36m<module>\u001b[0;34m\u001b[0m\n\u001b[1;32m      9\u001b[0m \u001b[0mmidi\u001b[0m\u001b[0;34m.\u001b[0m\u001b[0maddTempo\u001b[0m\u001b[0;34m(\u001b[0m\u001b[0mtrack\u001b[0m\u001b[0;34m,\u001b[0m \u001b[0mtime\u001b[0m\u001b[0;34m,\u001b[0m \u001b[0;36m140\u001b[0m\u001b[0;34m)\u001b[0m\u001b[0;34m\u001b[0m\u001b[0;34m\u001b[0m\u001b[0m\n\u001b[1;32m     10\u001b[0m \u001b[0;34m\u001b[0m\u001b[0m\n\u001b[0;32m---> 11\u001b[0;31m \u001b[0;32mfor\u001b[0m \u001b[0mnote_group\u001b[0m \u001b[0;32min\u001b[0m \u001b[0mnote_groups\u001b[0m\u001b[0;34m:\u001b[0m\u001b[0;34m\u001b[0m\u001b[0;34m\u001b[0m\u001b[0m\n\u001b[0m\u001b[1;32m     12\u001b[0m     \u001b[0mduration\u001b[0m \u001b[0;34m=\u001b[0m \u001b[0;32mNone\u001b[0m\u001b[0;34m\u001b[0m\u001b[0;34m\u001b[0m\u001b[0m\n\u001b[1;32m     13\u001b[0m     \u001b[0;32mfor\u001b[0m \u001b[0mnote\u001b[0m \u001b[0;32min\u001b[0m \u001b[0mnote_group\u001b[0m\u001b[0;34m:\u001b[0m\u001b[0;34m\u001b[0m\u001b[0;34m\u001b[0m\u001b[0m\n",
      "\u001b[0;31mNameError\u001b[0m: name 'note_groups' is not defined"
     ]
    }
   ],
   "source": [
    "midi = MIDIFile(1)\n",
    "\n",
    "track = 0\n",
    "time = 0\n",
    "channel = 0\n",
    "volume = 100\n",
    "\n",
    "midi.addTrackName(track, time, \"Track\")\n",
    "midi.addTempo(track, time, 140)\n",
    "\n",
    "for note_group in note_groups:\n",
    "    duration = None\n",
    "    for note in note_group:\n",
    "        note_type = note.sym\n",
    "        if note_type == \"1\":\n",
    "            duration = 4\n",
    "        elif note_type == \"2\":\n",
    "            duration = 2\n",
    "        elif note_type == \"4,8\":\n",
    "            duration = 1 if len(note_group) == 1 else 0.5\n",
    "        pitch = note.pitch\n",
    "        midi.addNote(track,channel,pitch,time,duration,volume)\n",
    "        time += duration\n",
    "\n",
    "midi.addNote(track,channel,pitch,time,4,0)\n",
    "# And write it to disk.\n",
    "binfile = open(\"output.mid\", 'wb')\n",
    "midi.writeFile(binfile)\n",
    "binfile.close()\n",
    "open_file('output.mid')\n"
   ]
  },
  {
   "cell_type": "code",
   "execution_count": 23,
   "metadata": {},
   "outputs": [],
   "source": [
    "degrees = np.array([60, 64, 67, 72]) # MIDI note number track =0\n",
    "channel = 0\n",
    "track = 0\n",
    "time =0 # In beats\n",
    "duration =1 # In beats\n",
    "tempo = 60 # In BPM\n",
    "volume= 100 # 0-127, as per the MIDI standard\n",
    "MyMIDI = MIDIFile(2) # One track, defaults to format 1 (tempo track # automatically created)\n",
    "MyMIDI.addTempo(track,time, tempo)\n",
    "for pitch in degrees:\n",
    "    MyMIDI.addNote(track, channel, pitch, time, duration, volume) \n",
    "time = time + 0.5\n",
    "for pitch in degrees+1:\n",
    "    MyMIDI.addNote(track, channel, pitch, time, duration, volume) \n",
    "    #time = time -0.5\n",
    "    \n",
    "for pitch in degrees:\n",
    "    MyMIDI.addNote(1, channel, pitch, time, duration, volume) \n",
    "\n",
    " \n",
    "with open(\"output.mid\", \"wb\") as output_file: MyMIDI.writeFile(output_file)\n",
    "open_file('output.mid')"
   ]
  },
  {
   "cell_type": "code",
   "execution_count": 18,
   "metadata": {},
   "outputs": [
    {
     "data": {
      "text/plain": [
       "2"
      ]
     },
     "execution_count": 18,
     "metadata": {},
     "output_type": "execute_result"
    }
   ],
   "source": [
    "1+1"
   ]
  },
  {
   "cell_type": "code",
   "execution_count": 19,
   "metadata": {},
   "outputs": [
    {
     "data": {
      "text/plain": [
       "<bound method MIDIFile.addNote of <midiutil.MidiFile.MIDIFile object at 0x10a5c2c50>>"
      ]
     },
     "execution_count": 19,
     "metadata": {},
     "output_type": "execute_result"
    }
   ],
   "source": [
    "MyMIDI.addNote"
   ]
  },
  {
   "cell_type": "code",
   "execution_count": 26,
   "metadata": {},
   "outputs": [],
   "source": [
    "channel = 0\n",
    "track = 0\n",
    "time =0 # In beats\n",
    "duration =1 # In beats\n",
    "tempo = 60 # In BPM\n",
    "volume= 100 # 0-127, as per the MIDI standard\n",
    "MyMIDI = MIDIFile(1) # One track, defaults to format 1 (tempo track # automatically created)\n",
    "MyMIDI.addTempo(track,time, tempo)\n",
    "\n",
    "MyMIDI.addNote(track, channel, 60, 0, duration, volume) \n",
    "time = time + 0.5\n",
    "\n",
    "MyMIDI.addNote(track, channel, 64, 4, duration, volume) \n",
    "time = time + 0.5\n",
    "\n",
    "MyMIDI.addNote(track, channel, 67, 2, duration, volume) \n",
    "time = time + 0.5\n",
    "\n",
    "\n",
    "with open(\"output.mid\", \"wb\") as output_file: MyMIDI.writeFile(output_file)\n",
    "open_file('output.mid')"
   ]
  },
  {
   "cell_type": "code",
   "execution_count": 28,
   "metadata": {},
   "outputs": [
    {
     "data": {
      "text/plain": [
       "76"
      ]
     },
     "execution_count": 28,
     "metadata": {},
     "output_type": "execute_result"
    }
   ],
   "source": [
    "x = random.randrange(0, 127)\n",
    "x"
   ]
  },
  {
   "cell_type": "code",
   "execution_count": 13,
   "metadata": {},
   "outputs": [
    {
     "name": "stdout",
     "output_type": "stream",
     "text": [
      "76 0.25 64 0.1\n",
      "48 0.5 64 0.1\n",
      "72 0.75 64 0.1\n",
      "56 1.0 100 3\n",
      "50 1.25 64 0.1\n",
      "49 1.5 64 0.1\n",
      "60 1.75 64 0.1\n",
      "94 2.0 100 3\n",
      "84 2.25 64 0.1\n",
      "87 2.5 64 0.1\n",
      "91 2.75 64 0.1\n",
      "88 3.0 100 3\n",
      "46 3.25 64 0.1\n",
      "81 3.5 64 0.1\n",
      "91 3.75 64 0.1\n",
      "66 4.0 100 3\n",
      "62 4.25 64 0.1\n",
      "45 4.5 64 0.1\n",
      "88 4.75 64 0.1\n",
      "79 5.0 100 3\n",
      "95 5.25 64 0.1\n",
      "70 5.5 64 0.1\n",
      "40 5.75 64 0.1\n",
      "94 6.0 100 3\n",
      "70 6.25 64 0.1\n",
      "43 6.5 64 0.1\n",
      "50 6.75 64 0.1\n",
      "89 7.0 100 3\n",
      "69 7.25 64 0.1\n",
      "54 7.5 64 0.1\n",
      "80 7.75 64 0.1\n",
      "82 8.0 100 3\n",
      "85 8.25 64 0.1\n",
      "66 8.5 64 0.1\n",
      "58 8.75 64 0.1\n",
      "61 9.0 100 3\n",
      "52 9.25 64 0.1\n",
      "89 9.5 64 0.1\n",
      "88 9.75 64 0.1\n",
      "87 10.0 100 3\n",
      "50 10.25 64 0.1\n",
      "69 10.5 64 0.1\n",
      "75 10.75 64 0.1\n",
      "60 11.0 100 3\n",
      "50 11.25 64 0.1\n",
      "93 11.5 64 0.1\n",
      "90 11.75 64 0.1\n",
      "83 12.0 100 3\n",
      "71 12.25 64 0.1\n",
      "77 12.5 64 0.1\n"
     ]
    }
   ],
   "source": [
    "time = 0\n",
    "chord = range(40,96)  #[61,64,68]\n",
    "for i in range(50):\n",
    "    pitch = random.choice(chord)\n",
    "    #time = random.randrange(0, 127)\n",
    "    time = time + 0.25\n",
    "    if time - int(time)<0.25:\n",
    "        volume=100\n",
    "    if time - int(time)<0.25:\n",
    "        duration=3\n",
    "    MyMIDI.addNote(track, channel, pitch, time, duration, volume)\n",
    "    print (pitch, time, volume, duration)\n",
    "    volume = 64\n",
    "    duration = 0.1\n",
    "    "
   ]
  },
  {
   "cell_type": "code",
   "execution_count": 146,
   "metadata": {},
   "outputs": [],
   "source": [
    "channel = 0\n",
    "track = 0\n",
    "time =0 # In beats\n",
    "duration =0.25 # In beats\n",
    "tempo = 80 # In BPM\n",
    "volume= 80# 0-127, as per the MIDI standard\n",
    "MyMIDI = MIDIFile(1) # One track, defaults to format 1 (tempo track # automatically created)\n",
    "MyMIDI.addTempo(track,time, tempo)\n",
    "\n"
   ]
  },
  {
   "cell_type": "code",
   "execution_count": 147,
   "metadata": {},
   "outputs": [
    {
     "name": "stdout",
     "output_type": "stream",
     "text": [
      "32 0 64 1\n",
      "48 0.25 64 0.1\n",
      "64 0.5 64 0.1\n",
      "48 0.75 64 0.1\n",
      "32 1.0 64 1\n",
      "48 1.25 64 0.1\n",
      "64 1.5 64 0.1\n",
      "48 1.75 64 0.1\n",
      "32 2.0 64 1\n",
      "48 2.25 64 0.1\n",
      "64 2.5 64 0.1\n",
      "48 2.75 64 0.1\n",
      "32 3.0 64 1\n",
      "48 3.25 64 0.1\n",
      "64 3.5 64 0.1\n",
      "48 3.75 64 0.1\n",
      "32 4.0 64 1\n",
      "48 4.25 64 0.1\n",
      "64 4.5 64 0.1\n",
      "48 4.75 64 0.1\n",
      "32 5.0 64 1\n",
      "48 5.25 64 0.1\n",
      "64 5.5 64 0.1\n",
      "48 5.75 64 0.1\n",
      "32 6.0 64 1\n",
      "48 6.25 64 0.1\n",
      "64 6.5 64 0.1\n",
      "48 6.75 64 0.1\n",
      "32 7.0 64 1\n",
      "48 7.25 64 0.1\n",
      "64 7.5 64 0.1\n",
      "48 7.75 64 0.1\n"
     ]
    }
   ],
   "source": [
    "time = 0\n",
    "chord = [44,48,52,56,60,64]\n",
    "sequence = [0,1,2,1]\n",
    "for i in range(8):\n",
    "    for note in sequence:\n",
    "        pitch = chord [note]\n",
    "        #time = random.randrange(0, 127)\n",
    "        if time%1==0:\n",
    "            volume=64\n",
    "        if time%1==0:\n",
    "            duration=1\n",
    "        if time%1==0:\n",
    "            pitch = pitch + 0\n",
    "        MyMIDI.addNote(track, channel, pitch, time, duration, volume)\n",
    "        if time%1==0:\n",
    "            pitch = pitch - 12\n",
    "            MyMIDI.addNote(track, channel, pitch, time, duration, volume)\n",
    "        if kolla3(time):\n",
    "            pitch = pitch + 12\n",
    "            MyMIDI.addNote(track, channel, pitch, time, duration, volume)\n",
    "        print (pitch, time, volume, duration)\n",
    "        volume = 64\n",
    "        duration = 0.1\n",
    "        time = time + 0.25"
   ]
  },
  {
   "cell_type": "code",
   "execution_count": 148,
   "metadata": {},
   "outputs": [],
   "source": [
    "with open(\"output.mid\", \"wb\") as output_file: MyMIDI.writeFile(output_file)\n",
    "open_file('output.mid')"
   ]
  },
  {
   "cell_type": "code",
   "execution_count": 33,
   "metadata": {},
   "outputs": [
    {
     "data": {
      "text/plain": [
       "0.25"
      ]
     },
     "execution_count": 33,
     "metadata": {},
     "output_type": "execute_result"
    }
   ],
   "source": [
    "1.25%1"
   ]
  },
  {
   "cell_type": "code",
   "execution_count": 75,
   "metadata": {},
   "outputs": [
    {
     "data": {
      "text/plain": [
       "13"
      ]
     },
     "execution_count": 75,
     "metadata": {},
     "output_type": "execute_result"
    }
   ],
   "source": [
    "len (sequence)"
   ]
  },
  {
   "cell_type": "code",
   "execution_count": 76,
   "metadata": {},
   "outputs": [
    {
     "data": {
      "text/plain": [
       "2"
      ]
     },
     "execution_count": 76,
     "metadata": {},
     "output_type": "execute_result"
    }
   ],
   "source": [
    "sequence [3]"
   ]
  },
  {
   "cell_type": "code",
   "execution_count": 114,
   "metadata": {},
   "outputs": [
    {
     "data": {
      "text/plain": [
       "0.75"
      ]
     },
     "execution_count": 114,
     "metadata": {},
     "output_type": "execute_result"
    }
   ],
   "source": [
    "7/4-7//4"
   ]
  },
  {
   "cell_type": "code",
   "execution_count": 115,
   "metadata": {},
   "outputs": [
    {
     "data": {
      "text/plain": [
       "0.75"
      ]
     },
     "execution_count": 115,
     "metadata": {},
     "output_type": "execute_result"
    }
   ],
   "source": [
    "7%4/4"
   ]
  },
  {
   "cell_type": "code",
   "execution_count": 136,
   "metadata": {},
   "outputs": [],
   "source": [
    "tal = 23.5"
   ]
  },
  {
   "cell_type": "code",
   "execution_count": 141,
   "metadata": {},
   "outputs": [],
   "source": []
  },
  {
   "cell_type": "code",
   "execution_count": 142,
   "metadata": {},
   "outputs": [
    {
     "data": {
      "text/plain": [
       "True"
      ]
     },
     "execution_count": 142,
     "metadata": {},
     "output_type": "execute_result"
    }
   ],
   "source": [
    "kolla3(tal)"
   ]
  },
  {
   "cell_type": "code",
   "execution_count": 143,
   "metadata": {},
   "outputs": [
    {
     "data": {
      "text/plain": [
       "34"
      ]
     },
     "execution_count": 143,
     "metadata": {},
     "output_type": "execute_result"
    }
   ],
   "source": [
    "int(34.5)"
   ]
  },
  {
   "cell_type": "code",
   "execution_count": 144,
   "metadata": {},
   "outputs": [
    {
     "data": {
      "text/plain": [
       "0.5"
      ]
     },
     "execution_count": 144,
     "metadata": {},
     "output_type": "execute_result"
    }
   ],
   "source": [
    "34.5%1"
   ]
  },
  {
   "cell_type": "code",
   "execution_count": null,
   "metadata": {},
   "outputs": [],
   "source": []
  }
 ],
 "metadata": {
  "kernelspec": {
   "display_name": "Python 3",
   "language": "python",
   "name": "python3"
  },
  "language_info": {
   "codemirror_mode": {
    "name": "ipython",
    "version": 3
   },
   "file_extension": ".py",
   "mimetype": "text/x-python",
   "name": "python",
   "nbconvert_exporter": "python",
   "pygments_lexer": "ipython3",
   "version": "3.7.3"
  }
 },
 "nbformat": 4,
 "nbformat_minor": 2
}
